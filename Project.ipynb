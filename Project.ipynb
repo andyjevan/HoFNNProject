{
 "cells": [
  {
   "cell_type": "code",
   "execution_count": 1,
   "metadata": {
    "collapsed": true
   },
   "outputs": [],
   "source": [
    "from sklearn.model_selection import train_test_split\n",
    "from sklearn.preprocessing import StandardScaler\n",
    "import numpy as np\n",
    "import pandas as pd\n",
    "import seaborn as sns\n",
    "import matplotlib.pyplot as plt\n",
    "import matplotlib.lines as lines\n",
    "%matplotlib inline\n",
    "\n",
    "from sklearn.neural_network import MLPClassifier\n",
    "from sklearn.metrics import confusion_matrix\n",
    "\n",
    "from sklearn.neural_network import BernoulliRBM\n",
    "\n",
    "\n",
    "#https://datatofish.com/import-csv-file-python-using-pandas/\n",
    "#https://www.kaggle.com/open-source-sports/baseball-databank/version/1#Batting.csv\n",
    "#https://pandas.pydata.org/pandas-docs/stable/"
   ]
  },
  {
   "cell_type": "code",
   "execution_count": 2,
   "metadata": {
    "collapsed": true
   },
   "outputs": [],
   "source": [
    "#taken from Data Driven Decision Making with Professor Dan Runfola\n",
    "def print_cm(cm, labels, hide_zeroes=False, hide_diagonal=False, hide_threshold=None):\n",
    "    \"\"\"pretty print for confusion matrixes\"\"\"\n",
    "    columnwidth = max([len(x) for x in labels] + [5])  # 5 is value length\n",
    "    empty_cell = \" \" * columnwidth\n",
    "    # Print header\n",
    "    print(\"    \" + empty_cell, end=\" \")\n",
    "    for label in labels:\n",
    "        print(\"%{0}s\".format(columnwidth) % label, end=\" \")\n",
    "    print()\n",
    "    # Print rows\n",
    "    for i, label1 in enumerate(labels):\n",
    "        print(\"    %{0}s\".format(columnwidth) % label1, end=\" \")\n",
    "        for j in range(len(labels)):\n",
    "            cell = \"%{0}.1f\".format(columnwidth) % cm[i, j]\n",
    "            if hide_zeroes:\n",
    "                cell = cell if float(cm[i, j]) != 0 else empty_cell\n",
    "            if hide_diagonal:\n",
    "                cell = cell if i != j else empty_cell\n",
    "            if hide_threshold:\n",
    "                cell = cell if cm[i, j] > hide_threshold else empty_cell\n",
    "            print(cell, end=\" \")\n",
    "        print()"
   ]
  },
  {
   "cell_type": "code",
   "execution_count": 3,
   "metadata": {
    "collapsed": true
   },
   "outputs": [],
   "source": [
    "#function created by me to take in confusion matrix\n",
    "#and return an n=2 array of the scores of the nn\n",
    "def predandactual(confmatrix):    \n",
    "    falseNeg = confmatrix[0,1]\n",
    "    trueNeg = confmatrix[1,1]\n",
    "    falsePos = confmatrix[1,0]\n",
    "\n",
    "    actualNeg = trueNeg + falsePos\n",
    "    predNeg = trueNeg + falseNeg\n",
    "    \n",
    "    scorearray = []\n",
    "    scorearray.append(trueNeg/predNeg)\n",
    "    scorearray.append(trueNeg/actualNeg)\n",
    "    \n",
    "    return scorearray"
   ]
  },
  {
   "cell_type": "code",
   "execution_count": 4,
   "metadata": {
    "collapsed": true
   },
   "outputs": [],
   "source": [
    "#method that displays eout and ein scores\n",
    "#with matplotlib.\n",
    "#source: https://pythonspot.com/matplotlib-bar-chart/\n",
    "def display_scores(eoutscores, einscores):\n",
    "    plt.clf()\n",
    "\n",
    "    fig, ax = plt.subplots()\n",
    "    index = np.arange(3)\n",
    "    bar_width = 0.35\n",
    "    opacity = 0.8\n",
    "\n",
    "    rects1 = plt.bar(index, eoutscores, bar_width, alpha=opacity, color='g', label='Eout')\n",
    "    rects2 = plt.bar(index+bar_width, einscores, bar_width, alpha=opacity, color ='b', label='Ein')\n",
    "\n",
    "    plt.xlabel('')\n",
    "    plt.ylabel('Scores')\n",
    "    plt.xticks(index + bar_width, ('Total','ActualNegative', 'PredictedNegative'))\n",
    "    plt.legend()\n",
    "    plt.tight_layout()\n",
    "    plt.show()"
   ]
  },
  {
   "cell_type": "code",
   "execution_count": 5,
   "metadata": {
    "collapsed": true
   },
   "outputs": [],
   "source": [
    "#read in csv files\n",
    "hof = pd.read_csv(r'HallOfFame.csv')\n",
    "bat = pd.read_csv(r'Batting.csv')\n",
    "pitch = pd.read_csv(r'Pitching.csv')"
   ]
  },
  {
   "cell_type": "code",
   "execution_count": 6,
   "metadata": {
    "collapsed": true
   },
   "outputs": [],
   "source": [
    "#player_ids = pd.DataFrame(master, columns=['bbrefID'])\n",
    "batting_stats = pd.DataFrame(bat, columns=['playerID','G','AB','R','HR','H','2B','3B','RBI','SB'])\n",
    "hall_of_fame = pd.DataFrame(hof, columns=['playerID','inducted'])\n",
    "pitching_stats = pd.DataFrame(pitch, columns=['playerID','W','L','GS','CG','SHO','SV','SO','ERA','IPouts', 'ER'])"
   ]
  },
  {
   "cell_type": "code",
   "execution_count": 7,
   "metadata": {
    "collapsed": true
   },
   "outputs": [],
   "source": [
    "ids = batting_stats['playerID']\n",
    "#print(ids[0])\n",
    "ids_set = set()\n",
    "for i in range(len(ids)):\n",
    "    ids_set.add(ids[i])\n",
    "#print(ids_set)"
   ]
  },
  {
   "cell_type": "code",
   "execution_count": 8,
   "metadata": {
    "collapsed": true
   },
   "outputs": [],
   "source": [
    "hall_ids = hall_of_fame['playerID']\n",
    "hall_set = set()\n",
    "for i in range(len(hall_ids)):\n",
    "    if (hall_of_fame['inducted'][i] == 'Y'):\n",
    "        hall_set.add(hall_ids[i])\n",
    "#print(hall_set)"
   ]
  },
  {
   "cell_type": "code",
   "execution_count": 9,
   "metadata": {
    "collapsed": true
   },
   "outputs": [],
   "source": [
    "bat_ids = batting_stats['playerID']\n",
    "pitch_ids = pitching_stats['playerID']\n",
    "    \n",
    "#print (len(batting_stats['playerID']))\n",
    "\n",
    "player_set = set()\n",
    "for i in range(len(bat_ids)):\n",
    "    player_set.add(bat_ids[i])\n",
    "for i in range(len(pitch_ids)):\n",
    "    player_set.add(pitch_ids[i])\n",
    "    \n",
    "#print(len(player_set))\n"
   ]
  },
  {
   "cell_type": "code",
   "execution_count": 10,
   "metadata": {
    "collapsed": true
   },
   "outputs": [],
   "source": [
    "hit_stats = batting_stats['H']\n",
    "double_stats = batting_stats['2B']\n",
    "triple_stats = batting_stats['3B']\n",
    "homerun_stats = batting_stats['HR']\n",
    "run_stats = batting_stats['R']\n",
    "rbi_stats = batting_stats['RBI']\n",
    "steal_stats = batting_stats['SB']\n",
    "ab_stats = batting_stats['AB']\n",
    "game_stats = batting_stats['G']\n",
    "win_stats = pitching_stats['W']\n",
    "lose_stats = pitching_stats['L']\n",
    "pitchstart_stats = pitching_stats['GS']\n",
    "completegame_stats = pitching_stats['CG']\n",
    "shutout_stats = pitching_stats['SHO']\n",
    "save_stats = pitching_stats['SV']\n",
    "strikeout_stats = pitching_stats['SO']\n",
    "#era_stats = pitching_stats['ERA']\n",
    "ipout_stats = pitching_stats['IPouts']\n",
    "earnedrun_stats = pitching_stats['ER']\n",
    "\n",
    "career_hits = dict.fromkeys(player_set, 0)\n",
    "career_singles = dict.fromkeys(player_set, 0)\n",
    "career_doubles = dict.fromkeys(player_set, 0)\n",
    "career_triples = dict.fromkeys(player_set, 0)\n",
    "career_homeruns = dict.fromkeys(player_set, 0)\n",
    "career_runs = dict.fromkeys(player_set, 0)\n",
    "career_rbis = dict.fromkeys(player_set, 0)\n",
    "career_steals = dict.fromkeys(player_set, 0)\n",
    "career_atbats = dict.fromkeys(player_set, 0)\n",
    "career_games = dict.fromkeys(player_set, 0)\n",
    "career_wins = dict.fromkeys(player_set, 0)\n",
    "career_loses = dict.fromkeys(player_set, 0)\n",
    "career_starts = dict.fromkeys(player_set, 0)\n",
    "career_completegames = dict.fromkeys(player_set, 0)\n",
    "career_shutouts = dict.fromkeys(player_set, 0)\n",
    "career_saves = dict.fromkeys(player_set, 0)\n",
    "career_strikeouts = dict.fromkeys(player_set, 0)\n",
    "career_era = dict.fromkeys(player_set, 0)\n",
    "career_innings = dict.fromkeys(player_set, 0)\n",
    "career_earnedruns = dict.fromkeys(player_set, 0)\n",
    "\n",
    "hall_dict = dict.fromkeys(player_set, 0)\n",
    "#print(type(hall_of_dict))\n",
    "for i in range(len(bat_ids)):\n",
    "    if bat_ids[i] in player_set:\n",
    "        #if (hit_stats[i] > 0):\n",
    "        career_doubles[bat_ids[i]] += double_stats[i]\n",
    "        career_triples[bat_ids[i]] += triple_stats[i]\n",
    "        career_hits[bat_ids[i]] += hit_stats[i]\n",
    "        career_homeruns[bat_ids[i]] += homerun_stats[i]\n",
    "        career_runs[bat_ids[i]] += run_stats[i]\n",
    "        career_rbis[bat_ids[i]] += rbi_stats[i]\n",
    "        career_steals[bat_ids[i]] += steal_stats[i]\n",
    "        career_atbats[bat_ids[i]] += ab_stats[i]\n",
    "        career_games[bat_ids[i]] += game_stats[i]\n",
    "        if bat_ids[i] in hall_set:\n",
    "            hall_dict[bat_ids[i]] = 1\n",
    "for i in range(len(pitch_ids)):\n",
    "    if pitch_ids[i] in player_set:\n",
    "        career_wins[pitch_ids[i]] += win_stats[i]\n",
    "        career_loses[pitch_ids[i]] += lose_stats[i]\n",
    "        career_starts[pitch_ids[i]] += pitchstart_stats[i]\n",
    "        career_completegames[pitch_ids[i]] += completegame_stats[i]\n",
    "        career_shutouts[pitch_ids[i]] += shutout_stats[i]\n",
    "        career_saves[pitch_ids[i]] += save_stats[i]\n",
    "        career_strikeouts[pitch_ids[i]] += strikeout_stats[i]\n",
    "        #career_era[pitch_ids[i]] += era_stats[i]\n",
    "        career_innings[pitch_ids[i]] += ipout_stats[i]\n",
    "        career_earnedruns[pitch_ids[i]] += earnedrun_stats[i]\n",
    "        if pitch_ids[i] in hall_set:\n",
    "            hall_dict[pitch_ids[i]] = 1\n",
    "\n"
   ]
  },
  {
   "cell_type": "code",
   "execution_count": 11,
   "metadata": {
    "collapsed": true
   },
   "outputs": [],
   "source": [
    "career_slugging = dict.fromkeys(player_set, 0)\n",
    "for player in player_set:\n",
    "    if (career_innings[player] > 0):\n",
    "        career_era[player] = (career_earnedruns[player] / (career_innings[player]/3))*9\n",
    "    if (career_atbats[player] > 0):\n",
    "        career_singles[player] = career_hits[player] - career_doubles[player] - career_triples[player] - career_homeruns[player]\n",
    "        career_slugging[player] = (career_singles[player] + (2 * career_doubles[player]) + \n",
    "                                   (3 * career_triples[player]) + (4 * career_homeruns[player])) / career_atbats[player]"
   ]
  },
  {
   "cell_type": "code",
   "execution_count": 12,
   "metadata": {
    "collapsed": true
   },
   "outputs": [],
   "source": [
    "batterdata = [career_atbats, career_hits, career_runs, career_rbis, career_steals, career_homeruns,  career_games, career_slugging, hall_dict]\n",
    "batterdf = pd.DataFrame(batterdata, index=['At Bats','Hits', 'Runs','RBIs', 'Steals', 'Home Runs', 'Games', 'Slugging', 'Inducted'])\n",
    "batterdf = batterdf.transpose()\n",
    "batterdf = batterdf.dropna()\n",
    "\n",
    "pitcherdata = [career_era, career_wins, career_innings, career_strikeouts, career_loses, hall_dict]\n",
    "pitcherdf = pd.DataFrame(pitcherdata, index=['ERA', 'Wins', 'IP', 'K', 'Loses', 'Inducted'])\n",
    "pitcherdf = pitcherdf.transpose()\n",
    "pitcherdf = pitcherdf.dropna()"
   ]
  },
  {
   "cell_type": "code",
   "execution_count": 13,
   "metadata": {
    "collapsed": true
   },
   "outputs": [],
   "source": [
    "#pitcherdf.iloc[1,0]\n",
    "#print(pitcherdf)\n",
    "c=0\n",
    "for i in range(len(pitcherdf)):\n",
    "    if (pitcherdf.iloc[c,2] < 1500): #500 innings\n",
    "        pitcherdf = pitcherdf.drop(pitcherdf.index[c])\n",
    "    else:\n",
    "        c += 1\n",
    "#print(pitcherdf)\n",
    "#print(batterdf.iloc[1,0])\n",
    "c=0\n",
    "for i in range(len(batterdf)):\n",
    "    if (batterdf.iloc[c,0] < 1000): #1000 at-bats\n",
    "        batterdf = batterdf.drop(batterdf.index[c])\n",
    "    else:\n",
    "        c += 1\n"
   ]
  },
  {
   "cell_type": "code",
   "execution_count": 14,
   "metadata": {},
   "outputs": [
    {
     "data": {
      "text/plain": [
       "<matplotlib.axes._subplots.AxesSubplot at 0x14b79a58>"
      ]
     },
     "execution_count": 14,
     "metadata": {},
     "output_type": "execute_result"
    },
    {
     "data": {
      "image/png": "[encoded data removed]",
      "text/plain": [
       "<matplotlib.figure.Figure at 0x1475ab70>"
      ]
     },
     "metadata": {},
     "output_type": "display_data"
    }
   ],
   "source": [
    "pitcherdf.plot.scatter(\"Wins\", 'IP', c=\"Inducted\", colormap = \"PiYG\")"
   ]
  },
  {
   "cell_type": "code",
   "execution_count": 15,
   "metadata": {},
   "outputs": [
    {
     "name": "stdout",
     "output_type": "stream",
     "text": [
      "Eout\n",
      "                 Not inducted     Inducted \n",
      "    Not inducted        801.0          4.0 \n",
      "        Inducted         32.0         18.0 \n",
      "0.9578947368421052\n",
      "*************************************************\n",
      "Ein\n",
      "                 Not inducted     Inducted \n",
      "    Not inducted       2410.0         12.0 \n",
      "        Inducted        100.0         43.0 \n",
      "0.9563352826510721\n"
     ]
    }
   ],
   "source": [
    "X = batterdf.drop('Inducted', axis=1)\n",
    "Xbatter = batterdf.drop('Inducted', axis=1)\n",
    "y = batterdf['Inducted']\n",
    "X_train, X_test, y_train, y_test = train_test_split(Xbatter,y,test_size=0.25)\n",
    "scale_X = StandardScaler()\n",
    "X_train = scale_X.fit_transform(X_train)\n",
    "X_test = scale_X.transform(X_test)\n",
    "batclf = MLPClassifier(alpha=1, warm_start=True)\n",
    "epochs = 100\n",
    "for e in range(epochs):\n",
    "    batclf.fit(X_train,y_train)\n",
    "pred = batclf.predict(X_test)\n",
    "nn_cm = confusion_matrix(y_test, pred)\n",
    "print(\"Eout\")\n",
    "print_cm(nn_cm, ['Not inducted', 'Inducted'])\n",
    "print(batclf.score(X_test,y_test))\n",
    "\n",
    "print(\"*************************************************\\nEin\")\n",
    "\n",
    "ein = batclf.predict(X_train)\n",
    "ein_cm = confusion_matrix(y_train, ein)\n",
    "print_cm(ein_cm, ['Not inducted', 'Inducted'])\n",
    "\n",
    "\n",
    "print(batclf.score(X_train,y_train))"
   ]
  },
  {
   "cell_type": "code",
   "execution_count": null,
   "metadata": {
    "collapsed": true
   },
   "outputs": [],
   "source": [
    "#print 1\n",
    "'''\n",
    "print(\"Eout\")\n",
    "print_cm(pitchnn_cm, ['Not inducted', 'Inducted'])\n",
    "print(\"Total Score:\", clf.score(X_test,y_test))\n",
    "print(\"When Predicting Inducted:\", predandactual(pitchnn_cm)[0])\n",
    "print(\"Inducted Correctly Predicted:\", predandactual(pitchnn_cm)[1])\n",
    "print(\"*************************************************\\nEin\")\n",
    "'''\n",
    "\n",
    "#print 3\n",
    "'''\n",
    "print_cm(ein_cm, ['Not inducted', 'Inducted'])\n",
    "print(\"Total Score:\", clf.score(X_train,y_train))\n",
    "print(\"When Predicting Inducted:\", predandactual(ein_cm)[0])\n",
    "print(\"Inducted Correctly Predicted:\", predandactual(ein_cm)[1])\n",
    "'''"
   ]
  },
  {
   "cell_type": "code",
   "execution_count": 25,
   "metadata": {
    "collapsed": true
   },
   "outputs": [],
   "source": [
    "def pitcher_nn(epochs, eout = True):\n",
    "    Xpitcher = pitcherdf.drop('Inducted', axis=1)\n",
    "    y = pitcherdf['Inducted']\n",
    "    X_train, X_test, y_train, y_test = train_test_split(Xpitcher,y,test_size=0.25)\n",
    "    scale_X = StandardScaler()\n",
    "    X_train = scale_X.fit_transform(X_train)\n",
    "    X_test = scale_X.transform(X_test)\n",
    "    clf = MLPClassifier(alpha=1, warm_start=True)\n",
    "    #epochs = 10\n",
    "    for e in range(epochs):\n",
    "        clf.fit(X_train,y_train)\n",
    "    pred = clf.predict(X_test)\n",
    "    pitchnn_cm = confusion_matrix(y_test, pred)\n",
    "    #print 1\n",
    "    ein = clf.predict(X_train)\n",
    "    ein_cm = confusion_matrix(y_train, ein)\n",
    "    #print 2\n",
    "    eoutscores = (clf.score(X_test,y_test), predandactual(pitchnn_cm)[0],\n",
    "                  predandactual(pitchnn_cm)[1])\n",
    "    einscores = (clf.score(X_test,y_test), predandactual(ein_cm)[0], \n",
    "                  predandactual(ein_cm)[1])\n",
    "    #display_scores(eoutscores, einscores)\n",
    "    if (eout == True):\n",
    "        return eoutscores\n",
    "    return einscores\n"
   ]
  },
  {
   "cell_type": "code",
   "execution_count": 23,
   "metadata": {
    "collapsed": true
   },
   "outputs": [],
   "source": [
    "def trials(e, n, eout=True):\n",
    "    #print(e)\n",
    "    totalaverage = 0\n",
    "    totalactualNeg = 0\n",
    "    totalpredNeg = 0\n",
    "    for i in range(0,n):\n",
    "        temp = pitcher_nn(e, eout=eout)\n",
    "        totalaverage += temp[0]\n",
    "        totalactualNeg += temp[1]\n",
    "        totalpredNeg += temp[2]\n",
    "        \n",
    "    final_array = []\n",
    "    \n",
    "    final_array = [totalaverage/n, totalactualNeg/n, totalpredNeg/n]\n",
    "    #print(final_array)\n",
    "    \n",
    "    return final_array"
   ]
  },
  {
   "cell_type": "code",
   "execution_count": 22,
   "metadata": {},
   "outputs": [
    {
     "data": {
      "image/png": "[encoded data removed]",
      "text/plain": [
       "<matplotlib.figure.Figure at 0x127a5860>"
      ]
     },
     "metadata": {},
     "output_type": "display_data"
    }
   ],
   "source": [
    "n = 10\n",
    "epochs = 250\n",
    "\n",
    "\n",
    "#plt.rcParams[\"figure.figsize\"] = (20,10)\n",
    "for e in range(1,epochs):\n",
    "    temp = trials(e,n)\n",
    "    plt.scatter(e, temp[0], c='r')\n",
    "    plt.scatter(e, temp[1], c='b')\n",
    "    plt.scatter(e, temp[2], c='g')\n",
    "    \n",
    "    \n",
    "plt.xlim(-1, epochs)\n",
    "plt.ylim(0.0, 1.0)\n",
    "plt.show()\n",
    "    \n",
    "        "
   ]
  },
  {
   "cell_type": "code",
   "execution_count": 28,
   "metadata": {},
   "outputs": [
    {
     "data": {
      "image/png": "[encoded data removed]",
      "text/plain": [
       "<matplotlib.figure.Figure at 0x12729f98>"
      ]
     },
     "metadata": {},
     "output_type": "display_data"
    }
   ],
   "source": [
    "n = 1\n",
    "epochs = 25\n",
    "\n",
    "\n",
    "#plt.rcParams[\"figure.figsize\"] = (20,10)\n",
    "for e in range(1,epochs):\n",
    "    temp = trials(e,n,eout=False)\n",
    "    plt.scatter(e, temp[0], c='r')\n",
    "    plt.scatter(e, temp[1], c='b')\n",
    "    plt.scatter(e, temp[2], c='g')\n",
    "    temp = trials(e,n)\n",
    "    plt.scatter(e, temp[0], c='y')\n",
    "    plt.scatter(e, temp[1], c='c')\n",
    "    plt.scatter(e, temp[2], c='m')\n",
    "    \n",
    "    \n",
    "plt.xlim(-1, epochs)\n",
    "plt.ylim(0.0, 1.0)\n",
    "plt.show()\n",
    "    "
   ]
  },
  {
   "cell_type": "code",
   "execution_count": null,
   "metadata": {
    "collapsed": true
   },
   "outputs": [],
   "source": []
  }
 ],
 "metadata": {
  "kernelspec": {
   "display_name": "Python 3",
   "language": "python",
   "name": "python3"
  },
  "language_info": {
   "codemirror_mode": {
    "name": "ipython",
    "version": 3
   },
   "file_extension": ".py",
   "mimetype": "text/x-python",
   "name": "python",
   "nbconvert_exporter": "python",
   "pygments_lexer": "ipython3",
   "version": "3.6.3"
  }
 },
 "nbformat": 4,
 "nbformat_minor": 2
}
